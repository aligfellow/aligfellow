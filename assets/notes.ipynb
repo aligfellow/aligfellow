
<!--

**aligfellow/aligfellow** is a ✨ _special_ ✨ repository because its `README.md` (this file) appears on your GitHub profile.
![aligfellow's Stats](https://github-readme-stats.vercel.app/api?username=aligfellow&theme=transparent&show_icons=true&hide_border=false&count_private=true&rank_icon=github&include_all_commits=true) <!-- &hide_rank=true -->

Here are some ideas to get you started:

- 🔭 I’m currently working on ...
- 🌱 I’m currently learning ...
- 👯 I’m looking to collaborate on ...
- 🤔 I’m looking for help with ...
- 💬 Ask me about ...
- 📫 How to reach me: ...
- 😄 Pronouns: ...
- ⚡ Fun fact: ...

Badges made at https://shields.io/badges, using 
[![GitHub Streak](https://streak-stats.demolab.com?user=aligfellow&border_radius=5&date_format=j%20M%5B%20Y%5D&mode=weekly)](https://git.io/streak-stats)

> [!NOTE]  
> Highlights information that users should take into account, even when skimming.

> [!TIP]
> Optional information to help a user be more successful.

> [!IMPORTANT]  
> Crucial information necessary for users to succeed.

> [!WARNING]  
> Critical content demanding immediate user attention due to potential risks.

> [!CAUTION]
> Negative potential consequences of an action.

-->
